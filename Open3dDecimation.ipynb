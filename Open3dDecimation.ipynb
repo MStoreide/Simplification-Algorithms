{
 "cells": [
  {
   "attachments": {},
   "cell_type": "markdown",
   "metadata": {},
   "source": [
    "Open3D Code for Decimation Simplification\n"
   ]
  },
  {
   "attachments": {},
   "cell_type": "markdown",
   "metadata": {},
   "source": [
    "Open3D Example for Decimation. Copied from Open3D Documentation.\n",
    "\n",
    "import open3d as o3d\n",
    "\n",
    "if __name__ == \"__main__\":\n",
    "    bunny = o3d.data.BunnyMesh()\n",
    "    mesh_in = o3d.io.read_triangle_mesh(bunny.path)\n",
    "    mesh_in.compute_vertex_normals()\n",
    "\n",
    "    print(\"Before Simplification: \", mesh_in)\n",
    "    o3d.visualization.draw_geometries([mesh_in])\n",
    "\n",
    "    mesh_smp = mesh_in.simplify_quadric_decimation(\n",
    "        target_number_of_triangles=6500)\n",
    "    print(\"After Simplification target number of triangles = 6500:\\n\", mesh_smp)\n",
    "    o3d.visualization.draw_geometries([mesh_smp])\n",
    "\n",
    "    mesh_smp = mesh_in.simplify_quadric_decimation(\n",
    "        target_number_of_triangles=1700)\n",
    "    print(\"After Simplification target number of triangles = 1700:\\n\", mesh_smp)\n",
    "    o3d.visualization.draw_geometries([mesh_smp])"
   ]
  },
  {
   "cell_type": "code",
   "execution_count": 1,
   "metadata": {},
   "outputs": [
    {
     "name": "stdout",
     "output_type": "stream",
     "text": [
      "Jupyter environment detected. Enabling Open3D WebVisualizer.\n",
      "[Open3D INFO] WebRTC GUI backend enabled.\n",
      "[Open3D INFO] WebRTCWindowSystem: HTTP handshake server disabled.\n",
      "[Open3D WARNING] Unable to load file H:\\Datasets\\Paper - Simplification\\Blender Topology Deform\\NonUniformRandomized.obj with ASSIMP\n",
      "TriangleMesh with 0 points and 0 triangles.\n",
      "Before simplification: TriangleMesh with 0 points and 0 triangles.\n"
     ]
    }
   ],
   "source": [
    "#Decimation of NUNM\n",
    "import open3d as o3d\n",
    "import io\n",
    "\n",
    "#Can change this to taking it from the project folder instead. \n",
    "NUNMbase = o3d.io.read_triangle_mesh(r\"H:\\Datasets\\Paper - Simplification\\Blender Topology Deform\\NonUniformRandomized.obj\")\n",
    "NUNMbase.compute_vertex_normals()\n",
    "print(NUNMbase)\n",
    "\n",
    "print(\"Before simplification:\", NUNMbase)\n",
    "#o3d.visualization.draw_geometries([NUNMbase]) This can be added later. \n",
    "\n",
    "#Starting simplification, going through 16 stages. This should be written as a function or a loop to make the code cleaner and easier to use for other objects.\n",
    "#This comes later perhaps.\n"
   ]
  },
  {
   "cell_type": "code",
   "execution_count": null,
   "metadata": {},
   "outputs": [],
   "source": []
  }
 ],
 "metadata": {
  "kernelspec": {
   "display_name": "Python 3",
   "language": "python",
   "name": "python3"
  },
  "language_info": {
   "codemirror_mode": {
    "name": "ipython",
    "version": 3
   },
   "file_extension": ".py",
   "mimetype": "text/x-python",
   "name": "python",
   "nbconvert_exporter": "python",
   "pygments_lexer": "ipython3",
   "version": "3.10.7"
  },
  "orig_nbformat": 4,
  "vscode": {
   "interpreter": {
    "hash": "6d5b3700750bb233553397e1738ff408efdf1f93150754eb3685d72f9fc5da7b"
   }
  }
 },
 "nbformat": 4,
 "nbformat_minor": 2
}
