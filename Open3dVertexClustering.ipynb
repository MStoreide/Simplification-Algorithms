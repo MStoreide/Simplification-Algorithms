{
 "cells": [
  {
   "attachments": {},
   "cell_type": "markdown",
   "metadata": {},
   "source": [
    "Open3D Code for Vertex Clustering Simplification.\n"
   ]
  },
  {
   "attachments": {},
   "cell_type": "markdown",
   "metadata": {},
   "source": [
    "Open3D Code for Vertex Clustering. Copied from Open3D Documentation.\n",
    "\n",
    "import open3d as o3d\n",
    "\n",
    "if __name__ == \"__main__\":\n",
    "    bunny = o3d.data.BunnyMesh()\n",
    "    mesh_in = o3d.io.read_triangle_mesh(bunny.path)\n",
    "    mesh_in.compute_vertex_normals()\n",
    "\n",
    "    print(\"Before Simplification: \", mesh_in)\n",
    "    o3d.visualization.draw_geometries([mesh_in])\n",
    "\n",
    "    voxel_size = max(mesh_in.get_max_bound() - mesh_in.get_min_bound()) / 32\n",
    "    mesh_smp = mesh_in.simplify_vertex_clustering(\n",
    "        voxel_size=voxel_size,\n",
    "        contraction=o3d.geometry.SimplificationContraction.Average)\n",
    "    print(\"After Simplification with voxel size =\", voxel_size, \":\\n\", mesh_smp)\n",
    "    o3d.visualization.draw_geometries([mesh_smp])\n",
    "\n",
    "    voxel_size = max(mesh_in.get_max_bound() - mesh_in.get_min_bound()) / 16\n",
    "    mesh_smp = mesh_in.simplify_vertex_clustering(\n",
    "        voxel_size=voxel_size,\n",
    "        contraction=o3d.geometry.SimplificationContraction.Average)\n",
    "    print(\"After Simplification with voxel size =\", voxel_size, \":\\n\", mesh_smp)\n",
    "    o3d.visualization.draw_geometries([mesh_smp])"
   ]
  },
  {
   "cell_type": "code",
   "execution_count": 9,
   "metadata": {},
   "outputs": [
    {
     "name": "stdout",
     "output_type": "stream",
     "text": [
      "TriangleMesh with 595449 points and 646656 triangles.\n",
      "Before simplification: TriangleMesh with 595449 points and 646656 triangles.\n",
      "[Open3D WARNING] [SimplifyQuadricDecimation] This mesh contains triangle uvs that are not handled in this function\n",
      "Simplification Stage 1 (5.623% reduction):  TriangleMesh with 184662 points and 242549 triangles.\n",
      "[Open3D WARNING] Write OBJ can not include triangle normals.\n",
      "[Open3D WARNING] [SimplifyQuadricDecimation] This mesh contains triangle uvs that are not handled in this function\n",
      "Simplification Stage 2 (5.623%*2 reduction):  TriangleMesh with 174981 points and 228092 triangles.\n",
      "[Open3D WARNING] [SimplifyQuadricDecimation] This mesh contains triangle uvs that are not handled in this function\n",
      "Simplification Stage 3 (5.623%*3 reduction):  TriangleMesh with 165966 points and 213635 triangles.\n"
     ]
    }
   ],
   "source": [
    "#Decimation of NUNM\n",
    "import open3d as o3d\n",
    "\n",
    "#Can change this to taking it from the project folder instead. \n",
    "NUNMbase = o3d.io.read_triangle_mesh(r\"H:\\Datasets\\Paper - Simplification\\Blender Topology Deform\\NonUniformRandomized.obj\")\n",
    "NUNMbase.compute_vertex_normals()\n",
    "print(NUNMbase)\n",
    "\n",
    "print(\"Before simplification:\", NUNMbase)\n",
    "#o3d.visualization.draw_geometries([NUNMbase]) This can be added later. \n",
    "\n",
    "#Starting simplification, going through 16 stages. This should be written as a function or a loop to make the code cleaner and easier to use for other objects.\n",
    "#This comes later perhaps.\n",
    "\n",
    "\n",
    "#Add a function that draws all the meshes side by side? Or at least gives images in a folder. \n",
    "\n",
    "#Add C++ binding to call Metro information directly in this code?"
   ]
  }
 ],
 "metadata": {
  "kernelspec": {
   "display_name": "base",
   "language": "python",
   "name": "python3"
  },
  "language_info": {
   "codemirror_mode": {
    "name": "ipython",
    "version": 3
   },
   "file_extension": ".py",
   "mimetype": "text/x-python",
   "name": "python",
   "nbconvert_exporter": "python",
   "pygments_lexer": "ipython3",
   "version": "3.8.8"
  },
  "orig_nbformat": 4,
  "vscode": {
   "interpreter": {
    "hash": "3d5127edd1a7d8c4c802a7fc17d3f16093ecce2c0701ae28f2b22054652ae200"
   }
  }
 },
 "nbformat": 4,
 "nbformat_minor": 2
}
