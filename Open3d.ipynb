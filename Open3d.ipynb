{
 "cells": [
  {
   "attachments": {},
   "cell_type": "markdown",
   "metadata": {},
   "source": [
    "Open3D Code for Decimation Simplification and Vertex Clustering Simplification\n"
   ]
  },
  {
   "attachments": {},
   "cell_type": "markdown",
   "metadata": {},
   "source": [
    "Open3D Example for Decimation. Copied from Open3D Documentation.\n",
    "\n",
    "import open3d as o3d\n",
    "\n",
    "if __name__ == \"__main__\":\n",
    "    bunny = o3d.data.BunnyMesh()\n",
    "    mesh_in = o3d.io.read_triangle_mesh(bunny.path)\n",
    "    mesh_in.compute_vertex_normals()\n",
    "\n",
    "    print(\"Before Simplification: \", mesh_in)\n",
    "    o3d.visualization.draw_geometries([mesh_in])\n",
    "\n",
    "    mesh_smp = mesh_in.simplify_quadric_decimation(\n",
    "        target_number_of_triangles=6500)\n",
    "    print(\"After Simplification target number of triangles = 6500:\\n\", mesh_smp)\n",
    "    o3d.visualization.draw_geometries([mesh_smp])\n",
    "\n",
    "    mesh_smp = mesh_in.simplify_quadric_decimation(\n",
    "        target_number_of_triangles=1700)\n",
    "    print(\"After Simplification target number of triangles = 1700:\\n\", mesh_smp)\n",
    "    o3d.visualization.draw_geometries([mesh_smp])"
   ]
  },
  {
   "attachments": {},
   "cell_type": "markdown",
   "metadata": {},
   "source": [
    "Open3D Code for Vertex Clustering. Copied from Open3D Documentation.\n",
    "\n",
    "import open3d as o3d\n",
    "\n",
    "if __name__ == \"__main__\":\n",
    "    bunny = o3d.data.BunnyMesh()\n",
    "    mesh_in = o3d.io.read_triangle_mesh(bunny.path)\n",
    "    mesh_in.compute_vertex_normals()\n",
    "\n",
    "    print(\"Before Simplification: \", mesh_in)\n",
    "    o3d.visualization.draw_geometries([mesh_in])\n",
    "\n",
    "    voxel_size = max(mesh_in.get_max_bound() - mesh_in.get_min_bound()) / 32\n",
    "    mesh_smp = mesh_in.simplify_vertex_clustering(\n",
    "        voxel_size=voxel_size,\n",
    "        contraction=o3d.geometry.SimplificationContraction.Average)\n",
    "    print(\"After Simplification with voxel size =\", voxel_size, \":\\n\", mesh_smp)\n",
    "    o3d.visualization.draw_geometries([mesh_smp])\n",
    "\n",
    "    voxel_size = max(mesh_in.get_max_bound() - mesh_in.get_min_bound()) / 16\n",
    "    mesh_smp = mesh_in.simplify_vertex_clustering(\n",
    "        voxel_size=voxel_size,\n",
    "        contraction=o3d.geometry.SimplificationContraction.Average)\n",
    "    print(\"After Simplification with voxel size =\", voxel_size, \":\\n\", mesh_smp)\n",
    "    o3d.visualization.draw_geometries([mesh_smp])"
   ]
  },
  {
   "cell_type": "code",
   "execution_count": 2,
   "metadata": {},
   "outputs": [
    {
     "name": "stdout",
     "output_type": "stream",
     "text": [
      "34\n",
      "Jupyter environment detected. Enabling Open3D WebVisualizer.\n",
      "[Open3D INFO] WebRTC GUI backend enabled.\n",
      "[Open3D INFO] WebRTCWindowSystem: HTTP handshake server disabled.\n"
     ]
    }
   ],
   "source": [
    "import open3d"
   ]
  }
 ],
 "metadata": {
  "kernelspec": {
   "display_name": "base",
   "language": "python",
   "name": "python3"
  },
  "language_info": {
   "codemirror_mode": {
    "name": "ipython",
    "version": 3
   },
   "file_extension": ".py",
   "mimetype": "text/x-python",
   "name": "python",
   "nbconvert_exporter": "python",
   "pygments_lexer": "ipython3",
   "version": "3.8.8"
  },
  "orig_nbformat": 4,
  "vscode": {
   "interpreter": {
    "hash": "3d5127edd1a7d8c4c802a7fc17d3f16093ecce2c0701ae28f2b22054652ae200"
   }
  }
 },
 "nbformat": 4,
 "nbformat_minor": 2
}
